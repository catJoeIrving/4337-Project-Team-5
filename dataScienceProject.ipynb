{
 "cells": [
  {
   "cell_type": "code",
   "execution_count": 5,
   "id": "7c6da5bc-cd1c-45c8-aad2-6b795cfcc0c5",
   "metadata": {},
   "outputs": [
    {
     "name": "stdout",
     "output_type": "stream",
     "text": [
      "id                0\n",
      "age               0\n",
      "bp                0\n",
      "sg                0\n",
      "al                0\n",
      "su                0\n",
      "rbc               0\n",
      "pc                0\n",
      "pcc               0\n",
      "ba                0\n",
      "bgr               0\n",
      "bu                0\n",
      "sc                0\n",
      "sod               0\n",
      "pot               0\n",
      "hemo              0\n",
      "pcv               0\n",
      "wc                0\n",
      "rc                0\n",
      "htn               0\n",
      "dm                0\n",
      "cad               0\n",
      "appet             0\n",
      "pe                0\n",
      "ane               0\n",
      "classification    0\n",
      "dtype: int64\n"
     ]
    }
   ],
   "source": [
    "import pandas as pd\n",
    "\n",
    "# load dataset\n",
    "df = pd.read_csv(r\"C:\\Users\\edony\\Downloads\\kidney_disease.csv\")\n",
    "\n",
    "# convert 'pcv', 'wc', and 'rc' to numeric, coerce errors to NaN\n",
    "df['pcv'] = pd.to_numeric(df['pcv'], errors='coerce')\n",
    "df['wc'] = pd.to_numeric(df['wc'], errors='coerce')\n",
    "df['rc'] = pd.to_numeric(df['rc'], errors='coerce')\n",
    "\n",
    "# fill null values in numeric columns ('pcv', 'wc', 'rc') with their mean\n",
    "df['pcv'] = df['pcv'].fillna(df['pcv'].mean())\n",
    "df['wc'] = df['wc'].fillna(df['wc'].mean())\n",
    "df['rc'] = df['rc'].fillna(df['rc'].mean())\n",
    "\n",
    "# additional numeric columns that need null values filled\n",
    "additional_numeric_columns = ['age', 'bp', 'sg', 'al', 'su', 'bgr', 'bu', 'sc', 'sod', 'pot', 'hemo']\n",
    "for column in additional_numeric_columns:\n",
    "    df[column] = df[column].fillna(df[column].mean())\n",
    "\n",
    "# fill null values in categorical columns with most frequent value (mode)\n",
    "categorical_columns = ['rbc', 'pc', 'pcc', 'ba', 'htn', 'dm', 'cad', 'appet', 'pe', 'ane']\n",
    "for column in categorical_columns:\n",
    "    df[column] = df[column].fillna(df[column].mode()[0])\n",
    "\n",
    "# verify all null values are filled\n",
    "null_values_final_check = df.isnull().sum()\n",
    "\n",
    "# save fully cleaned dataset to new CSV file\n",
    "df.to_csv(r\"C:\\Users\\edony\\Downloads\\kidney_disease_cleaned.csv\", index=False)\n",
    "\n",
    "# print final check for null values to confirm\n",
    "print(null_values_final_check)\n"
   ]
  },
  {
   "cell_type": "code",
   "execution_count": null,
   "id": "c081a9b2-d39a-4887-9c1e-a8dcce711326",
   "metadata": {},
   "outputs": [],
   "source": []
  }
 ],
 "metadata": {
  "kernelspec": {
   "display_name": "Python 3 (ipykernel)",
   "language": "python",
   "name": "python3"
  },
  "language_info": {
   "codemirror_mode": {
    "name": "ipython",
    "version": 3
   },
   "file_extension": ".py",
   "mimetype": "text/x-python",
   "name": "python",
   "nbconvert_exporter": "python",
   "pygments_lexer": "ipython3",
   "version": "3.11.8"
  }
 },
 "nbformat": 4,
 "nbformat_minor": 5
}
